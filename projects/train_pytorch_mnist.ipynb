{
 "cells": [
  {
   "cell_type": "code",
   "execution_count": 29,
   "id": "eda705ef",
   "metadata": {},
   "outputs": [],
   "source": [
    "from torch import nn, save, load\n",
    "from torch.optim import Adam ##optimizer\n",
    "from torch.utils.data import DataLoader ##load dataset from pytorch\n",
    "from torchvision import datasets ##for using mnest lateron\n",
    "from torchvision.transforms import ToTensor\n",
    "from PIL import Image\n",
    "import matplotlib.pyplot as plt"
   ]
  },
  {
   "cell_type": "code",
   "execution_count": 2,
   "id": "ce9b95e0",
   "metadata": {},
   "outputs": [],
   "source": [
    "train = datasets.MNIST(root = \"data\", download = True, train= True, transform= ToTensor())"
   ]
  },
  {
   "cell_type": "code",
   "execution_count": 3,
   "id": "1a11b815",
   "metadata": {},
   "outputs": [],
   "source": [
    "dataset = DataLoader(train, 32) #batches of 32 images\n"
   ]
  },
  {
   "cell_type": "code",
   "execution_count": 4,
   "id": "d320522f",
   "metadata": {},
   "outputs": [
    {
     "name": "stdout",
     "output_type": "stream",
     "text": [
      "torch.Size([1, 28, 28])\n"
     ]
    }
   ],
   "source": [
    "image, label = train[0]\n",
    "\n",
    "print(image.shape) #size of each image"
   ]
  },
  {
   "cell_type": "code",
   "execution_count": 5,
   "id": "26561595",
   "metadata": {},
   "outputs": [],
   "source": [
    "##Image Classifier NN\n",
    "\n",
    "class ImageClassifier(nn.Module):\n",
    "    \n",
    "    def __init__(self):\n",
    "        super().__init__()\n",
    "        self.model = nn.Sequential(\n",
    "            \n",
    "            nn.Conv2d(1,32, (3,3)), #images are B&W so the input is 1,32 filters(kernels)of shape 3*3\n",
    "            nn.ReLU(),\n",
    "            nn.Conv2d(32,64, (3,3)),\n",
    "            nn.ReLU(),\n",
    "            nn.Conv2d(64,64, (3,3)),\n",
    "            nn.ReLU(),\n",
    "            nn.Flatten(),\n",
    "            #Reduction per dimension= Kernel Size−1\n",
    "            nn.Linear(64*(28-6)*(28-6), 10) #10 is number of output classes\n",
    "        )\n",
    "        \n",
    "        \n",
    "        pass\n",
    "    \n",
    "    def forward(self, x): ##akin to call method in tensorflow\n",
    "        return self.model(x) ##how the input data x should be processed through the layers of the network to produce the output. \n",
    "        \n",
    "        "
   ]
  },
  {
   "cell_type": "code",
   "execution_count": 12,
   "id": "e7845816",
   "metadata": {},
   "outputs": [],
   "source": [
    "## Instance of the neural network, loss optimizer\n",
    "\n",
    "clf = ImageClassifier().to('cpu')\n",
    "optimizer = Adam(clf.parameters(), lr = 1e-3)\n",
    "loss_func = nn.CrossEntropyLoss()\n"
   ]
  },
  {
   "cell_type": "code",
   "execution_count": 8,
   "id": "8bb52e9a",
   "metadata": {},
   "outputs": [
    {
     "name": "stdout",
     "output_type": "stream",
     "text": [
      "False\n"
     ]
    }
   ],
   "source": [
    "import torch\n",
    "print(torch.cuda.is_available())\n"
   ]
  },
  {
   "cell_type": "code",
   "execution_count": 15,
   "id": "a3a120a4",
   "metadata": {},
   "outputs": [
    {
     "name": "stdout",
     "output_type": "stream",
     "text": [
      "epoch: 0 loss is 1.2740432566715754e-06\n",
      "epoch: 1 loss is 1.590670080986456e-06\n",
      "epoch: 2 loss is 4.9114642024505883e-05\n",
      "epoch: 3 loss is 5.483684435603209e-05\n",
      "epoch: 4 loss is 6.891723955959606e-07\n"
     ]
    }
   ],
   "source": [
    "## training\n",
    "\n",
    "if __name__ == \"__main__\":\n",
    "    for epoch in range (5):\n",
    "        for batch in dataset:\n",
    "            X, y = batch\n",
    "            X, y = X.to('cpu'), y.to('cpu')\n",
    "            yhat = clf(X)\n",
    "            loss = loss_func(yhat, y)\n",
    "            \n",
    "            #BP\n",
    "            optimizer.zero_grad() ## lears the old gradients from the previous step.\n",
    "            loss.backward() ##Computes the gradients of the loss function with respect to the model’s parameters.\n",
    "            optimizer.step() ## Updates the model's parameters using the computed gradients.\n",
    "        print(f\"epoch: {epoch} loss is {loss.item()}\")\n",
    "        \n",
    "    with open('model_state.pt', 'wb') as f: \n",
    "        save(clf.state_dict(), f)        \n"
   ]
  },
  {
   "cell_type": "code",
   "execution_count": 28,
   "id": "159d4336",
   "metadata": {},
   "outputs": [
    {
     "name": "stdout",
     "output_type": "stream",
     "text": [
      "tensor(2)\n"
     ]
    }
   ],
   "source": [
    "## prediction\n",
    "\n",
    "if __name__ == \"__main__\":\n",
    "        with open('model_state.pt', 'rb') as f: \n",
    "            clf.load_state_dict(load(f)) \n",
    "        \n",
    "        img = Image.open('img_1.jpg')\n",
    "        image_tensor = ToTensor()(img).unsqueeze(0).to('cpu')\n",
    "    \n",
    "        print(torch.argmax(clf(image_tensor)))\n",
    "    "
   ]
  },
  {
   "cell_type": "code",
   "execution_count": 30,
   "id": "588407e7",
   "metadata": {},
   "outputs": [
    {
     "data": {
      "text/plain": [
       "<matplotlib.image.AxesImage at 0x1debec39f60>"
      ]
     },
     "execution_count": 30,
     "metadata": {},
     "output_type": "execute_result"
    },
    {
     "data": {
      "image/png": "[encoded data removed]",
      "text/plain": [
       "<Figure size 640x480 with 1 Axes>"
      ]
     },
     "metadata": {},
     "output_type": "display_data"
    }
   ],
   "source": [
    "plt.imshow(img)"
   ]
  },
  {
   "cell_type": "code",
   "execution_count": null,
   "id": "1fb3605c",
   "metadata": {},
   "outputs": [],
   "source": []
  }
 ],
 "metadata": {
  "kernelspec": {
   "display_name": "facedetection",
   "language": "python",
   "name": "facedetection"
  },
  "language_info": {
   "codemirror_mode": {
    "name": "ipython",
    "version": 3
   },
   "file_extension": ".py",
   "mimetype": "text/x-python",
   "name": "python",
   "nbconvert_exporter": "python",
   "pygments_lexer": "ipython3",
   "version": "3.10.6"
  }
 },
 "nbformat": 4,
 "nbformat_minor": 5
}
